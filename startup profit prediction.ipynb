{
 "cells": [
  {
   "cell_type": "code",
   "execution_count": 1,
   "id": "f2977bea-ff64-4092-be04-e3959721ff87",
   "metadata": {},
   "outputs": [],
   "source": [
    "import pandas as pd\n",
    "import numpy as np\n",
    "import matplotlib.pyplot as plt\n",
    "import seaborn as sns \n",
    "from sklearn.preprocessing import StandardScaler\n",
    "from sklearn.model_selection import train_test_split\n",
    "from sklearn.linear_model import LinearRegression\n",
    "from sklearn.linear_model import Ridge\n",
    "from sklearn.linear_model import RidgeCV\n",
    "from sklearn.metrics import r2_score\n",
    "from sklearn.metrics import mean_squared_error\n",
    "from sklearn.metrics import mean_absolute_error"
   ]
  },
  {
   "cell_type": "code",
   "execution_count": 2,
   "id": "75c6029c-d930-44fb-8222-f930ccb5fbd7",
   "metadata": {},
   "outputs": [],
   "source": [
    "\n",
    "from statsmodels.stats.outliers_influence import variance_inflation_factor"
   ]
  },
  {
   "cell_type": "markdown",
   "id": "ca5d44c3-c32c-4044-b6c3-f33654f751bb",
   "metadata": {},
   "source": [
    "Loading data"
   ]
  },
  {
   "cell_type": "code",
   "execution_count": 3,
   "id": "2d7c6f82-b83e-44c2-b1a1-5df565faa670",
   "metadata": {},
   "outputs": [],
   "source": [
    "data = pd.read_csv(r\"C:\\Users\\Avnish Roy\\OneDrive\\Desktop\\start-up profit prediction\\50_Startups (1).csv\")"
   ]
  },
  {
   "cell_type": "markdown",
   "id": "d249a094-4ef8-4b91-935a-4d279ca92a33",
   "metadata": {},
   "source": [
    "Exploratory data analysis"
   ]
  },
  {
   "cell_type": "code",
   "execution_count": 4,
   "id": "9a4700e7-4e76-44fd-bb4b-4b1300862925",
   "metadata": {},
   "outputs": [
    {
     "data": {
      "text/html": [
       "<div>\n",
       "<style scoped>\n",
       "    .dataframe tbody tr th:only-of-type {\n",
       "        vertical-align: middle;\n",
       "    }\n",
       "\n",
       "    .dataframe tbody tr th {\n",
       "        vertical-align: top;\n",
       "    }\n",
       "\n",
       "    .dataframe thead th {\n",
       "        text-align: right;\n",
       "    }\n",
       "</style>\n",
       "<table border=\"1\" class=\"dataframe\">\n",
       "  <thead>\n",
       "    <tr style=\"text-align: right;\">\n",
       "      <th></th>\n",
       "      <th>R&amp;D Spend</th>\n",
       "      <th>Administration</th>\n",
       "      <th>Marketing Spend</th>\n",
       "      <th>Profit</th>\n",
       "    </tr>\n",
       "  </thead>\n",
       "  <tbody>\n",
       "    <tr>\n",
       "      <th>0</th>\n",
       "      <td>165349.20</td>\n",
       "      <td>136897.80</td>\n",
       "      <td>471784.10</td>\n",
       "      <td>192261.83</td>\n",
       "    </tr>\n",
       "    <tr>\n",
       "      <th>1</th>\n",
       "      <td>162597.70</td>\n",
       "      <td>151377.59</td>\n",
       "      <td>443898.53</td>\n",
       "      <td>191792.06</td>\n",
       "    </tr>\n",
       "    <tr>\n",
       "      <th>2</th>\n",
       "      <td>153441.51</td>\n",
       "      <td>101145.55</td>\n",
       "      <td>407934.54</td>\n",
       "      <td>191050.39</td>\n",
       "    </tr>\n",
       "    <tr>\n",
       "      <th>3</th>\n",
       "      <td>144372.41</td>\n",
       "      <td>118671.85</td>\n",
       "      <td>383199.62</td>\n",
       "      <td>182901.99</td>\n",
       "    </tr>\n",
       "    <tr>\n",
       "      <th>4</th>\n",
       "      <td>142107.34</td>\n",
       "      <td>91391.77</td>\n",
       "      <td>366168.42</td>\n",
       "      <td>166187.94</td>\n",
       "    </tr>\n",
       "  </tbody>\n",
       "</table>\n",
       "</div>"
      ],
      "text/plain": [
       "   R&D Spend  Administration  Marketing Spend     Profit\n",
       "0  165349.20       136897.80        471784.10  192261.83\n",
       "1  162597.70       151377.59        443898.53  191792.06\n",
       "2  153441.51       101145.55        407934.54  191050.39\n",
       "3  144372.41       118671.85        383199.62  182901.99\n",
       "4  142107.34        91391.77        366168.42  166187.94"
      ]
     },
     "execution_count": 4,
     "metadata": {},
     "output_type": "execute_result"
    }
   ],
   "source": [
    "data.head()"
   ]
  },
  {
   "cell_type": "code",
   "execution_count": 5,
   "id": "ba31ee97-a076-4c8d-b33e-62bfb81fc0fd",
   "metadata": {},
   "outputs": [
    {
     "data": {
      "text/plain": [
       "(50, 4)"
      ]
     },
     "execution_count": 5,
     "metadata": {},
     "output_type": "execute_result"
    }
   ],
   "source": [
    "data.shape"
   ]
  },
  {
   "cell_type": "code",
   "execution_count": 6,
   "id": "5e2e1b58-02df-4e39-b3d4-3e92cdcc3d21",
   "metadata": {},
   "outputs": [
    {
     "data": {
      "text/plain": [
       "0"
      ]
     },
     "execution_count": 6,
     "metadata": {},
     "output_type": "execute_result"
    }
   ],
   "source": [
    "data.duplicated().sum() # finding duplicate values"
   ]
  },
  {
   "cell_type": "code",
   "execution_count": 7,
   "id": "86a3102e-52f1-48c4-91a0-e93fab0ea04b",
   "metadata": {},
   "outputs": [
    {
     "data": {
      "text/plain": [
       "R&D Spend          0\n",
       "Administration     0\n",
       "Marketing Spend    0\n",
       "Profit             0\n",
       "dtype: int64"
      ]
     },
     "execution_count": 7,
     "metadata": {},
     "output_type": "execute_result"
    }
   ],
   "source": [
    "data.isna().sum() # finding null values"
   ]
  },
  {
   "cell_type": "code",
   "execution_count": 8,
   "id": "c4d56e4e-004b-4b08-bf12-5c9d2764ef3a",
   "metadata": {},
   "outputs": [
    {
     "name": "stdout",
     "output_type": "stream",
     "text": [
      "<class 'pandas.core.frame.DataFrame'>\n",
      "RangeIndex: 50 entries, 0 to 49\n",
      "Data columns (total 4 columns):\n",
      " #   Column           Non-Null Count  Dtype  \n",
      "---  ------           --------------  -----  \n",
      " 0   R&D Spend        50 non-null     float64\n",
      " 1   Administration   50 non-null     float64\n",
      " 2   Marketing Spend  50 non-null     float64\n",
      " 3   Profit           50 non-null     float64\n",
      "dtypes: float64(4)\n",
      "memory usage: 1.7 KB\n"
     ]
    }
   ],
   "source": [
    "data.info()"
   ]
  },
  {
   "cell_type": "code",
   "execution_count": 9,
   "id": "52fd2236-24ab-4164-a3d7-fe10a580231d",
   "metadata": {},
   "outputs": [
    {
     "data": {
      "text/html": [
       "<div>\n",
       "<style scoped>\n",
       "    .dataframe tbody tr th:only-of-type {\n",
       "        vertical-align: middle;\n",
       "    }\n",
       "\n",
       "    .dataframe tbody tr th {\n",
       "        vertical-align: top;\n",
       "    }\n",
       "\n",
       "    .dataframe thead th {\n",
       "        text-align: right;\n",
       "    }\n",
       "</style>\n",
       "<table border=\"1\" class=\"dataframe\">\n",
       "  <thead>\n",
       "    <tr style=\"text-align: right;\">\n",
       "      <th></th>\n",
       "      <th>R&amp;D Spend</th>\n",
       "      <th>Administration</th>\n",
       "      <th>Marketing Spend</th>\n",
       "      <th>Profit</th>\n",
       "    </tr>\n",
       "  </thead>\n",
       "  <tbody>\n",
       "    <tr>\n",
       "      <th>count</th>\n",
       "      <td>50.0000</td>\n",
       "      <td>50.0000</td>\n",
       "      <td>50.0000</td>\n",
       "      <td>50.0000</td>\n",
       "    </tr>\n",
       "    <tr>\n",
       "      <th>mean</th>\n",
       "      <td>73721.6156</td>\n",
       "      <td>121344.6396</td>\n",
       "      <td>211025.0978</td>\n",
       "      <td>112012.6392</td>\n",
       "    </tr>\n",
       "    <tr>\n",
       "      <th>std</th>\n",
       "      <td>45902.2565</td>\n",
       "      <td>28017.8028</td>\n",
       "      <td>122290.3107</td>\n",
       "      <td>40306.1803</td>\n",
       "    </tr>\n",
       "    <tr>\n",
       "      <th>min</th>\n",
       "      <td>0.0000</td>\n",
       "      <td>51283.1400</td>\n",
       "      <td>0.0000</td>\n",
       "      <td>14681.4000</td>\n",
       "    </tr>\n",
       "    <tr>\n",
       "      <th>25%</th>\n",
       "      <td>39936.3700</td>\n",
       "      <td>103730.8750</td>\n",
       "      <td>129300.1325</td>\n",
       "      <td>90138.9025</td>\n",
       "    </tr>\n",
       "    <tr>\n",
       "      <th>50%</th>\n",
       "      <td>73051.0800</td>\n",
       "      <td>122699.7950</td>\n",
       "      <td>212716.2400</td>\n",
       "      <td>107978.1900</td>\n",
       "    </tr>\n",
       "    <tr>\n",
       "      <th>75%</th>\n",
       "      <td>101602.8000</td>\n",
       "      <td>144842.1800</td>\n",
       "      <td>299469.0850</td>\n",
       "      <td>139765.9775</td>\n",
       "    </tr>\n",
       "    <tr>\n",
       "      <th>max</th>\n",
       "      <td>165349.2000</td>\n",
       "      <td>182645.5600</td>\n",
       "      <td>471784.1000</td>\n",
       "      <td>192261.8300</td>\n",
       "    </tr>\n",
       "  </tbody>\n",
       "</table>\n",
       "</div>"
      ],
      "text/plain": [
       "         R&D Spend  Administration  Marketing Spend       Profit\n",
       "count      50.0000         50.0000          50.0000      50.0000\n",
       "mean    73721.6156     121344.6396      211025.0978  112012.6392\n",
       "std     45902.2565      28017.8028      122290.3107   40306.1803\n",
       "min         0.0000      51283.1400           0.0000   14681.4000\n",
       "25%     39936.3700     103730.8750      129300.1325   90138.9025\n",
       "50%     73051.0800     122699.7950      212716.2400  107978.1900\n",
       "75%    101602.8000     144842.1800      299469.0850  139765.9775\n",
       "max    165349.2000     182645.5600      471784.1000  192261.8300"
      ]
     },
     "execution_count": 9,
     "metadata": {},
     "output_type": "execute_result"
    }
   ],
   "source": [
    "round(data.describe(),4) # finding central tendencies and variability"
   ]
  },
  {
   "cell_type": "code",
   "execution_count": 10,
   "id": "c93ae704-5377-4785-9666-0bd9ad4d5b27",
   "metadata": {},
   "outputs": [
    {
     "data": {
      "image/png": "[encoded data removed]",
      "text/plain": [
       "<Figure size 640x480 with 1 Axes>"
      ]
     },
     "metadata": {},
     "output_type": "display_data"
    }
   ],
   "source": [
    "# plotting scatter plots\n",
    "plt.scatter(data['R&D Spend'], data['Profit'])\n",
    "plt.xlabel('R&D Spend')\n",
    "plt.ylabel('Profit')\n",
    "plt.show()"
   ]
  },
  {
   "cell_type": "markdown",
   "id": "10e45b51-23a1-4f1b-90bb-b062aa135b53",
   "metadata": {},
   "source": [
    "fitting linear model with R&D spend using sklearn: $\\texttt{Profit} = a + b\\texttt{R\\&D Spend} + \\epsilon$"
   ]
  },
  {
   "cell_type": "code",
   "execution_count": 11,
   "id": "0e7e8e27-87e3-4289-b6e6-5922f3344d17",
   "metadata": {},
   "outputs": [],
   "source": [
    "x = data[['R&D Spend']]\n",
    "y = data[['Profit']]"
   ]
  },
  {
   "cell_type": "code",
   "execution_count": 12,
   "id": "bc2ee4ef-151e-4088-a952-681c2d152732",
   "metadata": {},
   "outputs": [],
   "source": [
    "lr = LinearRegression()"
   ]
  },
  {
   "cell_type": "code",
   "execution_count": 13,
   "id": "ffa8e7c6-1fda-4834-98e4-937ab6b4a772",
   "metadata": {},
   "outputs": [],
   "source": [
    " fit_lm = lr.fit(x,y)"
   ]
  },
  {
   "cell_type": "code",
   "execution_count": 14,
   "id": "42cbfa57-7f5a-443a-9b8e-595032cfe74d",
   "metadata": {},
   "outputs": [
    {
     "name": "stdout",
     "output_type": "stream",
     "text": [
      "[49032.89914125] [[0.85429137]]\n"
     ]
    }
   ],
   "source": [
    "a = fit_lm.intercept_\n",
    "b = fit_lm.coef_\n",
    "print(a, b)"
   ]
  },
  {
   "cell_type": "code",
   "execution_count": 15,
   "id": "e9401c83-8718-4450-824b-8033e90fed70",
   "metadata": {},
   "outputs": [
    {
     "data": {
      "text/plain": [
       "array([[190289.29389289],\n",
       "       [187938.71118575],\n",
       "       [180116.65707807],\n",
       "       [172369.00320589],\n",
       "       [170433.97345032],\n",
       "       [161694.19683741],\n",
       "       [164033.72501421],\n",
       "       [160345.46724972],\n",
       "       [152011.33380847],\n",
       "       [154396.82286103],\n",
       "       [136096.36397105],\n",
       "       [135036.08586475],\n",
       "       [129219.89081021],\n",
       "       [127621.20411029],\n",
       "       [151499.37407569],\n",
       "       [146869.43093301],\n",
       "       [115678.82583435],\n",
       "       [129897.69412683],\n",
       "       [127413.41482014],\n",
       "       [122860.50313037],\n",
       "       [114175.91374003],\n",
       "       [116000.34693472],\n",
       "       [112245.81324567],\n",
       "       [106725.35677792],\n",
       "       [114850.93206678],\n",
       "       [104275.40289851],\n",
       "       [113385.70276482],\n",
       "       [110633.79960036],\n",
       "       [105460.14271464],\n",
       "       [105079.09459155],\n",
       "       [101994.24845109],\n",
       "       [101261.18102569],\n",
       "       [103202.54108032],\n",
       "       [ 96440.90176556],\n",
       "       [ 88694.29012885],\n",
       "       [ 88342.27936946],\n",
       "       [ 73520.10196791],\n",
       "       [ 86681.47714396],\n",
       "       [ 66314.86331588],\n",
       "       [ 81973.10151051],\n",
       "       [ 73597.47513738],\n",
       "       [ 72861.58000754],\n",
       "       [ 69229.14164122],\n",
       "       [ 62279.31048036],\n",
       "       [ 67979.15105018],\n",
       "       [ 49887.38699921],\n",
       "       [ 50156.68526807],\n",
       "       [ 49032.89914125],\n",
       "       [ 49495.96777887],\n",
       "       [ 49032.89914125]])"
      ]
     },
     "execution_count": 15,
     "metadata": {},
     "output_type": "execute_result"
    }
   ],
   "source": [
    "y_hat1 = a + np.dot(x, b)\n",
    "y_hat1"
   ]
  },
  {
   "cell_type": "code",
   "execution_count": 16,
   "id": "78f5252d-8409-4324-b84f-7d65c8da10fd",
   "metadata": {},
   "outputs": [],
   "source": [
    "def abline(intercept, slope):\n",
    "    axes = plt.gca()\n",
    "    x_vals = np.array(axes.get_xlim())\n",
    "    y_vals = intercept + slope*x_vals\n",
    "    plt.plot(x_vals, y_vals , '--')"
   ]
  },
  {
   "cell_type": "code",
   "execution_count": 17,
   "id": "8c026309-7f7d-4120-97d1-b4165f006836",
   "metadata": {},
   "outputs": [
    {
     "data": {
      "text/plain": [
       "[array([49032.89914125]), array([[0.85429137]])]"
      ]
     },
     "execution_count": 17,
     "metadata": {},
     "output_type": "execute_result"
    }
   ],
   "source": [
    "[fit_lm.intercept_, fit_lm.coef_]"
   ]
  },
  {
   "cell_type": "code",
   "execution_count": 18,
   "id": "c54a04a3-8787-4175-b1c7-93a167830d64",
   "metadata": {},
   "outputs": [
    {
     "data": {
      "image/png": "[encoded data removed]",
      "text/plain": [
       "<Figure size 640x480 with 1 Axes>"
      ]
     },
     "metadata": {},
     "output_type": "display_data"
    }
   ],
   "source": [
    "plt.scatter(data['R&D Spend'], data['Profit'])\n",
    "plt.xlabel('R&D Spend')\n",
    "plt.ylabel('Profit')\n",
    "abline(intercept = 49032.89914125, slope = 0.85429137)\n",
    "plt.show()"
   ]
  },
  {
   "cell_type": "code",
   "execution_count": 19,
   "id": "23a6f3c3-d979-44f1-99ec-4b536f7f5c1b",
   "metadata": {},
   "outputs": [
    {
     "name": "stdout",
     "output_type": "stream",
     "text": [
      "0.9465353160804393\n"
     ]
    }
   ],
   "source": [
    "R2score = r2_score(y, y_hat1)\n",
    "print(R2score)"
   ]
  },
  {
   "cell_type": "code",
   "execution_count": 20,
   "id": "7028959b-126a-4368-807d-46b2c9501276",
   "metadata": {},
   "outputs": [
    {
     "name": "stdout",
     "output_type": "stream",
     "text": [
      "85120931.32706906\n"
     ]
    }
   ],
   "source": [
    "mse = mean_squared_error(y, y_hat1)\n",
    "print(mse)"
   ]
  },
  {
   "cell_type": "code",
   "execution_count": 21,
   "id": "235c89a6-7a40-405f-90f0-b1f5d7158d39",
   "metadata": {},
   "outputs": [
    {
     "name": "stdout",
     "output_type": "stream",
     "text": [
      "9226.100548285232\n"
     ]
    }
   ],
   "source": [
    "rmse = np.sqrt(mse)\n",
    "print(rmse)"
   ]
  },
  {
   "cell_type": "code",
   "execution_count": 22,
   "id": "4963532f-db52-44e1-87a3-b620ab947365",
   "metadata": {},
   "outputs": [
    {
     "data": {
      "image/png": "[encoded data removed]",
      "text/plain": [
       "<Figure size 640x480 with 1 Axes>"
      ]
     },
     "metadata": {},
     "output_type": "display_data"
    }
   ],
   "source": [
    "plt.scatter(y_hat1, y)\n",
    "plt.xlabel('predicted profit')\n",
    "plt.ylabel('actual profit')\n",
    "plt.show()"
   ]
  },
  {
   "cell_type": "markdown",
   "id": "75d70a9e-0e7b-4b98-acad-c079b13f8778",
   "metadata": {},
   "source": [
    "## fitting linear model with R&D spend, Administraition using sklearn: $\\texttt{Profit} = a + b\\texttt{R\\&D Spend} +c\\texttt{Administration} + \\epsilon$"
   ]
  },
  {
   "cell_type": "code",
   "execution_count": 23,
   "id": "c74481ba-98c5-4826-b3d4-5c3e425e64f9",
   "metadata": {},
   "outputs": [],
   "source": [
    "x = data[['R&D Spend', 'Administration']]\n",
    "y = data[['Profit']]"
   ]
  },
  {
   "cell_type": "code",
   "execution_count": 24,
   "id": "f505817b-a2dd-45d4-a71c-5919777ba17c",
   "metadata": {},
   "outputs": [],
   "source": [
    "lr2 = LinearRegression()\n",
    "lm2 = lr2.fit(x,y)"
   ]
  },
  {
   "cell_type": "code",
   "execution_count": 25,
   "id": "9c982cd0-9611-47fc-a3f1-77848406736c",
   "metadata": {},
   "outputs": [
    {
     "name": "stdout",
     "output_type": "stream",
     "text": [
      "[54886.62062756] [[ 0.86211798 -0.05299543]]\n"
     ]
    }
   ],
   "source": [
    "a = lm2.intercept_\n",
    "coef = lm2.coef_\n",
    "print(a,coef)"
   ]
  },
  {
   "cell_type": "code",
   "execution_count": 26,
   "id": "1bcd69b2-87c3-4551-af27-ed24b39ec9a8",
   "metadata": {},
   "outputs": [],
   "source": [
    " rd_cost = data[['R&D Spend']]\n",
    " admi_cost = data[['Administration']]"
   ]
  },
  {
   "cell_type": "code",
   "execution_count": 27,
   "id": "af2620c8-5dab-4ad5-a4c2-d6133e64e33c",
   "metadata": {},
   "outputs": [],
   "source": [
    "y_hat2 = a + np.dot(rd_cost,0.86211798 ) + np.dot(admi_cost, -0.05299543) "
   ]
  },
  {
   "cell_type": "code",
   "execution_count": 28,
   "id": "a4ea3a28-f3d0-4a7b-a585-877f4e155016",
   "metadata": {},
   "outputs": [
    {
     "data": {
      "text/plain": [
       "array([[190182.18114912],\n",
       "       [187042.7008298 ],\n",
       "       [181811.05336208],\n",
       "       [173063.60538485],\n",
       "       [172556.56738193],\n",
       "       [163290.34378745],\n",
       "       [163140.16166837],\n",
       "       [159506.55315331],\n",
       "       [150927.06976967],\n",
       "       [155456.33889051],\n",
       "       [136886.73687782],\n",
       "       [136813.24457849],\n",
       "       [129060.84888692],\n",
       "       [127014.29457221],\n",
       "       [149995.54657273],\n",
       "       [147121.35178203],\n",
       "       [115699.01098508],\n",
       "       [128803.81146384],\n",
       "       [127934.42602682],\n",
       "       [121255.05155325],\n",
       "       [114591.99785153],\n",
       "       [114318.30311181],\n",
       "       [112171.73659292],\n",
       "       [107503.30766766],\n",
       "       [116046.18959559],\n",
       "       [103239.55006799],\n",
       "       [112190.44562907],\n",
       "       [110275.6422732 ],\n",
       "       [102151.4436361 ],\n",
       "       [103336.28469861],\n",
       "       [102204.71713696],\n",
       "       [ 99500.88914545],\n",
       "       [102704.49012848],\n",
       "       [ 97267.37670651],\n",
       "       [ 86554.31321652],\n",
       "       [ 90049.00894844],\n",
       "       [ 72864.76501485],\n",
       "       [ 90162.34484421],\n",
       "       [ 68831.97498663],\n",
       "       [ 83730.93383872],\n",
       "       [ 73393.84662886],\n",
       "       [ 74444.32479248],\n",
       "       [ 70170.28064109],\n",
       "       [ 61503.7094907 ],\n",
       "       [ 65802.43108139],\n",
       "       [ 49169.39315409],\n",
       "       [ 49882.97249561],\n",
       "       [ 47709.61276859],\n",
       "       [ 52611.78119482],\n",
       "       [ 48687.01384353]])"
      ]
     },
     "execution_count": 28,
     "metadata": {},
     "output_type": "execute_result"
    }
   ],
   "source": [
    "y_hat2"
   ]
  },
  {
   "cell_type": "code",
   "execution_count": 29,
   "id": "ab30211b-eba8-44e4-9721-b82dc2c214f9",
   "metadata": {},
   "outputs": [
    {
     "name": "stdout",
     "output_type": "stream",
     "text": [
      "83086833.2581635 9115.19792753638\n"
     ]
    }
   ],
   "source": [
    "mse = mean_squared_error(y, y_hat2)\n",
    "rmse = np.sqrt(mse)\n",
    "print(mse , rmse)"
   ]
  },
  {
   "cell_type": "code",
   "execution_count": 30,
   "id": "dc0b4bba-577c-4d99-9827-4c9c44e73dad",
   "metadata": {},
   "outputs": [
    {
     "name": "stdout",
     "output_type": "stream",
     "text": [
      "0.9478129385009172\n"
     ]
    }
   ],
   "source": [
    "r2score = r2_score(y, y_hat2)\n",
    "print(r2score)"
   ]
  },
  {
   "cell_type": "code",
   "execution_count": 31,
   "id": "7dc6bf2e-d9ba-405d-b008-c979c5c8c61c",
   "metadata": {},
   "outputs": [],
   "source": [
    "x = data[['R&D Spend', 'Administration']]\n",
    "y = data[['Profit']]"
   ]
  },
  {
   "cell_type": "code",
   "execution_count": 32,
   "id": "cfbf1e48-8994-4832-9d28-6957b0ebfadb",
   "metadata": {},
   "outputs": [
    {
     "data": {
      "image/png": "[encoded data removed]",
      "text/plain": [
       "<Figure size 640x480 with 1 Axes>"
      ]
     },
     "metadata": {},
     "output_type": "display_data"
    }
   ],
   "source": [
    "plt.scatter(y_hat2, y)\n",
    "plt.xlabel('predicted profit')\n",
    "plt.ylabel('actual profit')\n",
    "plt.show()"
   ]
  },
  {
   "cell_type": "markdown",
   "id": "81628853-b4b3-48f6-b8a1-dd8135eb8cdc",
   "metadata": {},
   "source": [
    "## fitting linear model with R&D spend, Administraition, Marketing Spend  using sklearn: $\\texttt{Profit} = a + b\\texttt{R\\&D Spend} +c\\texttt{Administration} + d\\texttt{Marketing Spend} +\\epsilon$"
   ]
  },
  {
   "cell_type": "code",
   "execution_count": 33,
   "id": "1af04e63-1b28-45de-a34b-93e34aa0365d",
   "metadata": {},
   "outputs": [],
   "source": [
    "x = data.drop('Profit', axis = 1)"
   ]
  },
  {
   "cell_type": "code",
   "execution_count": 34,
   "id": "6df62b64-2a47-426c-afc3-7b45d22862cf",
   "metadata": {},
   "outputs": [
    {
     "data": {
      "text/html": [
       "<div>\n",
       "<style scoped>\n",
       "    .dataframe tbody tr th:only-of-type {\n",
       "        vertical-align: middle;\n",
       "    }\n",
       "\n",
       "    .dataframe tbody tr th {\n",
       "        vertical-align: top;\n",
       "    }\n",
       "\n",
       "    .dataframe thead th {\n",
       "        text-align: right;\n",
       "    }\n",
       "</style>\n",
       "<table border=\"1\" class=\"dataframe\">\n",
       "  <thead>\n",
       "    <tr style=\"text-align: right;\">\n",
       "      <th></th>\n",
       "      <th>R&amp;D Spend</th>\n",
       "      <th>Administration</th>\n",
       "      <th>Marketing Spend</th>\n",
       "    </tr>\n",
       "  </thead>\n",
       "  <tbody>\n",
       "    <tr>\n",
       "      <th>0</th>\n",
       "      <td>165349.20</td>\n",
       "      <td>136897.80</td>\n",
       "      <td>471784.10</td>\n",
       "    </tr>\n",
       "    <tr>\n",
       "      <th>1</th>\n",
       "      <td>162597.70</td>\n",
       "      <td>151377.59</td>\n",
       "      <td>443898.53</td>\n",
       "    </tr>\n",
       "    <tr>\n",
       "      <th>2</th>\n",
       "      <td>153441.51</td>\n",
       "      <td>101145.55</td>\n",
       "      <td>407934.54</td>\n",
       "    </tr>\n",
       "    <tr>\n",
       "      <th>3</th>\n",
       "      <td>144372.41</td>\n",
       "      <td>118671.85</td>\n",
       "      <td>383199.62</td>\n",
       "    </tr>\n",
       "    <tr>\n",
       "      <th>4</th>\n",
       "      <td>142107.34</td>\n",
       "      <td>91391.77</td>\n",
       "      <td>366168.42</td>\n",
       "    </tr>\n",
       "  </tbody>\n",
       "</table>\n",
       "</div>"
      ],
      "text/plain": [
       "   R&D Spend  Administration  Marketing Spend\n",
       "0  165349.20       136897.80        471784.10\n",
       "1  162597.70       151377.59        443898.53\n",
       "2  153441.51       101145.55        407934.54\n",
       "3  144372.41       118671.85        383199.62\n",
       "4  142107.34        91391.77        366168.42"
      ]
     },
     "execution_count": 34,
     "metadata": {},
     "output_type": "execute_result"
    }
   ],
   "source": [
    "x.head()"
   ]
  },
  {
   "cell_type": "code",
   "execution_count": 35,
   "id": "6e7cfab5-4b6b-4256-a66a-380bd3ac776a",
   "metadata": {},
   "outputs": [],
   "source": [
    "y = data['Profit']"
   ]
  },
  {
   "cell_type": "code",
   "execution_count": 36,
   "id": "7a53faec-2b15-4ef2-87f1-3aa64ab4b351",
   "metadata": {},
   "outputs": [],
   "source": [
    "lm2 = LinearRegression()"
   ]
  },
  {
   "cell_type": "code",
   "execution_count": 37,
   "id": "7d73dc01-77c5-42c4-aaee-d9a40e701513",
   "metadata": {},
   "outputs": [],
   "source": [
    "fit_lm = lm2.fit(x,y)"
   ]
  },
  {
   "cell_type": "code",
   "execution_count": 38,
   "id": "f4d92952-2c67-4a87-8f31-eb87815338dc",
   "metadata": {},
   "outputs": [
    {
     "name": "stdout",
     "output_type": "stream",
     "text": [
      "50122.19298986524\n",
      "[ 0.80571505 -0.02681597  0.02722806]\n"
     ]
    }
   ],
   "source": [
    "intercept = fit_lm.intercept_\n",
    "print(intercept)\n",
    "coeff = fit_lm.coef_\n",
    "print(coeff)"
   ]
  },
  {
   "cell_type": "code",
   "execution_count": 39,
   "id": "56511ce0-c566-4c7f-83e3-09e3d4efe815",
   "metadata": {},
   "outputs": [],
   "source": [
    " rd_cost = data[['R&D Spend']]\n",
    " admi_cost = data[['Administration']]\n",
    " Mar_cost = data[['Marketing Spend']]"
   ]
  },
  {
   "cell_type": "code",
   "execution_count": 40,
   "id": "c38b895b-1dae-401c-86aa-29d2abf7b046",
   "metadata": {},
   "outputs": [],
   "source": [
    "y_hat3 = intercept + np.dot(rd_cost, 0.80571505) + np.dot(admi_cost, -0.02681597) + np.dot(Mar_cost, 0.02722806) "
   ]
  },
  {
   "cell_type": "code",
   "execution_count": 41,
   "id": "8947c035-9cc4-4845-8882-93b4ada4160c",
   "metadata": {},
   "outputs": [
    {
     "data": {
      "text/plain": [
       "array([[192521.25041931],\n",
       "       [189156.76587189],\n",
       "       [182147.27698835],\n",
       "       [173696.69800753],\n",
       "       [172139.51229063],\n",
       "       [163580.77868005],\n",
       "       [158114.09583055],\n",
       "       [160021.3612703 ],\n",
       "       [151741.69797408],\n",
       "       [154884.68248172],\n",
       "       [135509.01509804],\n",
       "       [135573.71162289],\n",
       "       [129138.05278652],\n",
       "       [127487.99024   ],\n",
       "       [149548.64486187],\n",
       "       [146235.15854127],\n",
       "       [116915.40394374],\n",
       "       [130192.44562631],\n",
       "       [129014.22521449],\n",
       "       [115635.21612801],\n",
       "       [116639.66762071],\n",
       "       [117319.44996107],\n",
       "       [114706.98006991],\n",
       "       [109996.61359406],\n",
       "       [113362.96528538],\n",
       "       [102237.7241839 ],\n",
       "       [110600.57448172],\n",
       "       [114408.06956209],\n",
       "       [101660.02515014],\n",
       "       [101794.98269728],\n",
       "       [ 99452.37231814],\n",
       "       [ 97687.85561226],\n",
       "       [ 99001.32856215],\n",
       "       [ 97915.00661347],\n",
       "       [ 89039.27247994],\n",
       "       [ 90511.59844823],\n",
       "       [ 75286.17341835],\n",
       "       [ 89619.53668339],\n",
       "       [ 69697.42965446],\n",
       "       [ 83729.01100682],\n",
       "       [ 74815.95297361],\n",
       "       [ 74802.55531544],\n",
       "       [ 70620.41095762],\n",
       "       [ 60167.03958958],\n",
       "       [ 64611.35453304],\n",
       "       [ 47650.64947855],\n",
       "       [ 56166.20524041],\n",
       "       [ 46490.58876595],\n",
       "       [ 49171.38807461],\n",
       "       [ 48215.13370664]])"
      ]
     },
     "execution_count": 41,
     "metadata": {},
     "output_type": "execute_result"
    }
   ],
   "source": [
    "y_hat3"
   ]
  },
  {
   "cell_type": "code",
   "execution_count": 42,
   "id": "6fae3703-c6f7-49de-a818-ab77bab5c4e9",
   "metadata": {},
   "outputs": [
    {
     "name": "stdout",
     "output_type": "stream",
     "text": [
      "0.9507459940683235\n"
     ]
    }
   ],
   "source": [
    "r2score = r2_score(y, y_hat3)\n",
    "print(r2score)"
   ]
  },
  {
   "cell_type": "code",
   "execution_count": 43,
   "id": "d350712e-4484-44ef-a6a6-0e9d64632385",
   "metadata": {},
   "outputs": [
    {
     "name": "stdout",
     "output_type": "stream",
     "text": [
      "78417126.01913261 8855.344489015242\n"
     ]
    }
   ],
   "source": [
    "mse = mean_squared_error(y, y_hat3)\n",
    "rmse = np.sqrt(mse)\n",
    "print(mse, rmse)"
   ]
  },
  {
   "cell_type": "code",
   "execution_count": 44,
   "id": "dc13e7dc-dee6-49a7-ad26-280ece63b3f2",
   "metadata": {},
   "outputs": [
    {
     "data": {
      "image/png": "[encoded data removed]",
      "text/plain": [
       "<Figure size 640x480 with 1 Axes>"
      ]
     },
     "metadata": {},
     "output_type": "display_data"
    }
   ],
   "source": [
    "plt.scatter(y_hat3, y)\n",
    "plt.xlabel('predicted profit')\n",
    "plt.ylabel('actual profit')\n",
    "plt.show()"
   ]
  },
  {
   "cell_type": "markdown",
   "id": "ca222457-6c00-45c0-81c0-41e16ed92524",
   "metadata": {},
   "source": [
    "## fitting linear model with R&D spend, Administraition, Marketing Spend  using sklearn: $\\texttt{Profit} = a + b\\texttt{Administration} +\\epsilon$"
   ]
  },
  {
   "cell_type": "code",
   "execution_count": 45,
   "id": "4b3b1a81-a07d-446d-9775-940a868966df",
   "metadata": {},
   "outputs": [
    {
     "data": {
      "image/png": "[encoded data removed]",
      "text/plain": [
       "<Figure size 640x480 with 1 Axes>"
      ]
     },
     "metadata": {},
     "output_type": "display_data"
    }
   ],
   "source": [
    "plt.scatter(data['Administration'], data['Profit'])\n",
    "plt.xlabel('Administration cost')\n",
    "plt.ylabel('Profit')\n",
    "plt.show()"
   ]
  },
  {
   "cell_type": "code",
   "execution_count": 46,
   "id": "a93a8a4e-55ed-4bfb-9783-b9d2fdc36841",
   "metadata": {},
   "outputs": [],
   "source": [
    "x = data[['Administration']]\n",
    "y = data[['Profit']]"
   ]
  },
  {
   "cell_type": "code",
   "execution_count": 47,
   "id": "5ba02b80-504c-45c5-af53-e4903bb15d43",
   "metadata": {},
   "outputs": [],
   "source": [
    "lr4 = LinearRegression()\n",
    "fit_lm = lr4.fit(x,y)"
   ]
  },
  {
   "cell_type": "code",
   "execution_count": 48,
   "id": "52bc6f36-24fd-45bd-8ebf-54803b49971c",
   "metadata": {},
   "outputs": [
    {
     "name": "stdout",
     "output_type": "stream",
     "text": [
      "[76974.47130542],[[0.2887492]]\n"
     ]
    }
   ],
   "source": [
    "intercept = fit_lm.intercept_\n",
    "coeff = fit_lm.coef_\n",
    "print(f'{intercept},{coeff}')"
   ]
  },
  {
   "cell_type": "code",
   "execution_count": 49,
   "id": "4be051c6-4cf8-461a-bd07-4b5637b44579",
   "metadata": {},
   "outputs": [
    {
     "data": {
      "text/plain": [
       "array([[116503.6018596 ],\n",
       "       [120684.62967237],\n",
       "       [106180.1681897 ],\n",
       "       [111240.87333494],\n",
       "       [103363.77199475],\n",
       "       [105795.88920124],\n",
       "       [119478.02760551],\n",
       "       [118996.16004913],\n",
       "       [119916.94949302],\n",
       "       [108355.49495555],\n",
       "       [108908.4323531 ],\n",
       "       [103478.93672662],\n",
       "       [113738.12947398],\n",
       "       [116098.56469098],\n",
       "       [122177.41396119],\n",
       "       [112379.98605074],\n",
       "       [112085.66687627],\n",
       "       [118865.50681004],\n",
       "       [109942.6395962 ],\n",
       "       [121301.54811819],\n",
       "       [109853.56335476],\n",
       "       [121376.42656134],\n",
       "       [112427.8924309 ],\n",
       "       [107509.99686616],\n",
       "       [105641.87903918],\n",
       "       [117270.33494157],\n",
       "       [118593.62056111],\n",
       "       [113895.25812743],\n",
       "       [129713.23106914],\n",
       "       [121162.35656519],\n",
       "       [110365.79866475],\n",
       "       [121067.02890353],\n",
       "       [114286.53062157],\n",
       "       [106732.23933965],\n",
       "       [122508.46492169],\n",
       "       [101531.85176777],\n",
       "       [113661.8505972 ],\n",
       "       [ 91782.43707469],\n",
       "       [ 96016.8834899 ],\n",
       "       [100935.48360269],\n",
       "       [111204.54868528],\n",
       "       [101434.63857381],\n",
       "       [104749.15024276],\n",
       "       [113756.00882459],\n",
       "       [121674.62075011],\n",
       "       [112823.56257539],\n",
       "       [110416.30956272],\n",
       "       [116078.88643284],\n",
       "       [ 91915.26459526],\n",
       "       [110753.4502439 ]])"
      ]
     },
     "execution_count": 49,
     "metadata": {},
     "output_type": "execute_result"
    }
   ],
   "source": [
    "y_hat4 = intercept + np.dot(x, coeff)\n",
    "y_hat4"
   ]
  },
  {
   "cell_type": "code",
   "execution_count": 50,
   "id": "199a9671-e2c2-4c0c-bbce-3a7c346b6e84",
   "metadata": {},
   "outputs": [],
   "source": [
    "def abline(intercept, slope):\n",
    "    axes = plt.gca()\n",
    "    x_vals = np.array(axes.get_xlim())\n",
    "    y_vals = intercept + slope*x_vals\n",
    "    plt.plot(x_vals, y_vals , '--')"
   ]
  },
  {
   "cell_type": "code",
   "execution_count": 51,
   "id": "1dbd88a8-7271-49d6-aeb5-074ea681ca0d",
   "metadata": {},
   "outputs": [
    {
     "data": {
      "image/png": "[encoded data removed]",
      "text/plain": [
       "<Figure size 640x480 with 1 Axes>"
      ]
     },
     "metadata": {},
     "output_type": "display_data"
    }
   ],
   "source": [
    "plt.scatter(data['Administration'], data['Profit'])\n",
    "plt.xlabel('Administration cost')\n",
    "plt.ylabel('Profit')\n",
    "abline(intercept =76974.47130542, slope = 0.2887492)  "
   ]
  },
  {
   "cell_type": "code",
   "execution_count": 52,
   "id": "fa157a70-d0a9-4279-b0cc-55ca54617218",
   "metadata": {},
   "outputs": [
    {
     "data": {
      "text/plain": [
       "0.04028714077757223"
      ]
     },
     "execution_count": 52,
     "metadata": {},
     "output_type": "execute_result"
    }
   ],
   "source": [
    "r2score = r2_score(y, y_hat4)\n",
    "r2score"
   ]
  },
  {
   "cell_type": "code",
   "execution_count": 53,
   "id": "70df2b86-fc84-456e-80c6-e5b48d941e3b",
   "metadata": {},
   "outputs": [
    {
     "name": "stdout",
     "output_type": "stream",
     "text": [
      "1527955397.744143 39089.07005473708\n"
     ]
    }
   ],
   "source": [
    "mse = mean_squared_error(y, y_hat4)\n",
    "rmse = np.sqrt(mse)\n",
    "print(mse, rmse)"
   ]
  },
  {
   "cell_type": "code",
   "execution_count": 54,
   "id": "c2a236a4-a4dd-47dc-8194-62c1fd0cafe5",
   "metadata": {},
   "outputs": [
    {
     "data": {
      "text/plain": [
       "Text(0, 0.5, 'actual profit')"
      ]
     },
     "execution_count": 54,
     "metadata": {},
     "output_type": "execute_result"
    },
    {
     "data": {
      "image/png": "[encoded data removed]",
      "text/plain": [
       "<Figure size 640x480 with 1 Axes>"
      ]
     },
     "metadata": {},
     "output_type": "display_data"
    }
   ],
   "source": [
    "plt.scatter(y_hat4, y)\n",
    "plt.xlabel('predicted profit')\n",
    "plt.ylabel('actual profit')"
   ]
  },
  {
   "cell_type": "markdown",
   "id": "189be451-b6b2-49e9-af71-1aba9f2f167f",
   "metadata": {},
   "source": [
    "## fitting linear model with R&D spend, Administraition, Marketing Spend  using sklearn: $\\texttt{Profit} = a + b\\texttt{Administration}+ c\\texttt{R\\&D Spend} +\\epsilon$"
   ]
  },
  {
   "cell_type": "code",
   "execution_count": 55,
   "id": "a74f5a77-53bc-4b88-a9ac-fd1736befa91",
   "metadata": {},
   "outputs": [],
   "source": [
    "x = data[['R&D Spend', 'Administration']]\n",
    "y = data['Profit']"
   ]
  },
  {
   "cell_type": "code",
   "execution_count": 56,
   "id": "c3dce817-cb51-4430-803f-479e14c5de58",
   "metadata": {},
   "outputs": [],
   "source": [
    "lm5 = LinearRegression()\n",
    "fit_lm = lm5.fit(x,y)"
   ]
  },
  {
   "cell_type": "code",
   "execution_count": 57,
   "id": "1a8a9f34-cd8c-4ab9-8b02-cccc51d6ddac",
   "metadata": {},
   "outputs": [
    {
     "name": "stdout",
     "output_type": "stream",
     "text": [
      "54886.62062756297 [ 0.86211798 -0.05299543]\n"
     ]
    }
   ],
   "source": [
    "a = fit_lm.intercept_\n",
    "coeff = fit_lm.coef_\n",
    "print(a, coeff)"
   ]
  },
  {
   "cell_type": "code",
   "execution_count": 58,
   "id": "2fdec3f2-c638-4bab-bfa7-d8494370870e",
   "metadata": {},
   "outputs": [],
   "source": [
    "admin_cost = data[['Administration']]\n",
    "rnd_cost = data[['R&D Spend']]"
   ]
  },
  {
   "cell_type": "code",
   "execution_count": 59,
   "id": "d9e60a09-6802-4e54-9e94-457c08dc7910",
   "metadata": {},
   "outputs": [
    {
     "data": {
      "text/plain": [
       "array([[164145.92347585],\n",
       "       [176775.02770712],\n",
       "       [133954.31907725],\n",
       "       [149544.67828434],\n",
       "       [126146.06917913],\n",
       "       [133949.80376448],\n",
       "       [174655.4089029 ],\n",
       "       [173445.4965565 ],\n",
       "       [176711.6987086 ],\n",
       "       [142044.70213644],\n",
       "       [144830.86384344],\n",
       "       [128685.80209459],\n",
       "       [159677.45965333],\n",
       "       [166824.18041114],\n",
       "       [183492.52255278],\n",
       "       [154527.57508524],\n",
       "       [155583.71649642],\n",
       "       [174944.21394367],\n",
       "       [148457.33588093],\n",
       "       [182654.04588029],\n",
       "       [149012.56119176],\n",
       "       [183303.17580671],\n",
       "       [156818.46351155],\n",
       "       [142477.56952774],\n",
       "       [136395.86848118],\n",
       "       [171770.9749171 ],\n",
       "       [175156.75469342],\n",
       "       [161299.5749189 ],\n",
       "       [208848.21316618],\n",
       "       [183341.52044705],\n",
       "       [151297.62322055],\n",
       "       [183293.74269334],\n",
       "       [162928.78997564],\n",
       "       [140793.40998758],\n",
       "       [188377.01485338],\n",
       "       [125769.01502861],\n",
       "       [162905.0154526 ],\n",
       "       [ 96763.23174209],\n",
       "       [110669.44100357],\n",
       "       [124383.54761693],\n",
       "       [155563.45370783],\n",
       "       [126439.10125485],\n",
       "       [136560.56888916],\n",
       "       [163883.4589625 ],\n",
       "       [187172.45846823],\n",
       "       [161868.18106427],\n",
       "       [154664.14427567],\n",
       "       [171640.60333558],\n",
       "       [ 99466.59441157],\n",
       "       [155740.45797629]])"
      ]
     },
     "execution_count": 59,
     "metadata": {},
     "output_type": "execute_result"
    }
   ],
   "source": [
    "y_hat5 = a + np.dot(admin_cost, 0.86211798) + np.dot(rnd_cost, -0.05299543)\n",
    "y_hat5"
   ]
  },
  {
   "cell_type": "code",
   "execution_count": 60,
   "id": "cd553c94-26fb-4bcc-aa47-30cc6bf6c606",
   "metadata": {},
   "outputs": [
    {
     "data": {
      "text/plain": [
       "-1.4150691465967529"
      ]
     },
     "execution_count": 60,
     "metadata": {},
     "output_type": "execute_result"
    }
   ],
   "source": [
    "r2score = r2_score( y, y_hat5)\n",
    "r2score"
   ]
  },
  {
   "cell_type": "code",
   "execution_count": 61,
   "id": "3e977869-d6b0-4934-9c93-5a02b52f4b14",
   "metadata": {},
   "outputs": [
    {
     "name": "stdout",
     "output_type": "stream",
     "text": [
      "3845022918.060755 62008.24879046944\n"
     ]
    }
   ],
   "source": [
    "mse = mean_squared_error(y, y_hat5)\n",
    "rmse = np.sqrt(mse)\n",
    "print(mse, rmse)"
   ]
  },
  {
   "cell_type": "code",
   "execution_count": 62,
   "id": "88671443-8e45-485c-895a-ff1dec6dfdf5",
   "metadata": {},
   "outputs": [
    {
     "data": {
      "text/plain": [
       "Text(0, 0.5, 'Actual value')"
      ]
     },
     "execution_count": 62,
     "metadata": {},
     "output_type": "execute_result"
    },
    {
     "data": {
      "image/png": "[encoded data removed]",
      "text/plain": [
       "<Figure size 640x480 with 1 Axes>"
      ]
     },
     "metadata": {},
     "output_type": "display_data"
    }
   ],
   "source": [
    "plt.scatter(y_hat5, y)\n",
    "plt.xlabel('Predicted value')\n",
    "plt.ylabel('Actual value')"
   ]
  },
  {
   "cell_type": "markdown",
   "id": "5e6fcff6-9e6b-41d8-a5ef-02c31fd86f27",
   "metadata": {},
   "source": [
    "## fitting linear model with R&D spend, Administraition, Marketing Spend  using sklearn: $\\texttt{Profit} = a +b\\texttt{R\\&D Spend}+c\\texttt{Marketing Spend} +\\epsilon$"
   ]
  },
  {
   "cell_type": "code",
   "execution_count": 63,
   "id": "b241ef79-d070-4e5d-b5d8-7e74f088090f",
   "metadata": {},
   "outputs": [],
   "source": [
    "x = data[['R&D Spend', 'Marketing Spend']]\n",
    "y = data[['Profit']]"
   ]
  },
  {
   "cell_type": "code",
   "execution_count": 64,
   "id": "80dd390c-9aa3-40f4-aab3-3499a1740369",
   "metadata": {},
   "outputs": [],
   "source": [
    "lm6 = LinearRegression()\n",
    "fit_lm = lm6.fit(x,y)"
   ]
  },
  {
   "cell_type": "code",
   "execution_count": 65,
   "id": "c57faafb-43fd-401e-adfe-c580ce2228aa",
   "metadata": {},
   "outputs": [
    {
     "name": "stdout",
     "output_type": "stream",
     "text": [
      "[46975.86422072] [[0.79658404 0.02990788]]\n"
     ]
    }
   ],
   "source": [
    "intercept = fit_lm.intercept_\n",
    "coeff = fit_lm.coef_\n",
    "print(intercept, coeff)"
   ]
  },
  {
   "cell_type": "code",
   "execution_count": 66,
   "id": "873127b4-08bb-4c6d-86b1-4a248db5d3b3",
   "metadata": {},
   "outputs": [],
   "source": [
    "rnd_cost = data[['R&D Spend']]\n",
    "mar_cost = data[['Marketing Spend']]"
   ]
  },
  {
   "cell_type": "code",
   "execution_count": 67,
   "id": "84b8065b-5dbe-42e2-98a6-64d73e3aea81",
   "metadata": {},
   "outputs": [
    {
     "data": {
      "text/plain": [
       "array([[192800.4602162 ],\n",
       "       [189774.66094884],\n",
       "       [181405.3794304 ],\n",
       "       [173441.31009406],\n",
       "       [171127.62439672],\n",
       "       [162879.31201691],\n",
       "       [158028.13052052],\n",
       "       [160455.7399008 ],\n",
       "       [152317.80467783],\n",
       "       [154343.8148972 ],\n",
       "       [135011.91540925],\n",
       "       [134638.87086429],\n",
       "       [129218.39739606],\n",
       "       [127812.20630282],\n",
       "       [150192.49254042],\n",
       "       [146032.7162236 ],\n",
       "       [117025.89279844],\n",
       "       [130829.44570301],\n",
       "       [128882.19986934],\n",
       "       [115816.41798231],\n",
       "       [116650.89321414],\n",
       "       [118384.17182762],\n",
       "       [114990.38579331],\n",
       "       [109886.18640413],\n",
       "       [112552.18751282],\n",
       "       [102612.90964139],\n",
       "       [110990.79322151],\n",
       "       [114978.60655085],\n",
       "       [103125.01305828],\n",
       "       [102440.42433769],\n",
       "       [ 99085.21974699],\n",
       "       [ 98314.54902875],\n",
       "       [ 98864.66221808],\n",
       "       [ 97600.73124858],\n",
       "       [ 90262.64204128],\n",
       "       [ 89776.49508396],\n",
       "       [ 75824.23476045],\n",
       "       [ 87974.01528415],\n",
       "       [ 68631.31912945],\n",
       "       [ 82924.81595738],\n",
       "       [ 75049.05674249],\n",
       "       [ 74113.88937991],\n",
       "       [ 70234.25118722],\n",
       "       [ 60390.23295953],\n",
       "       [ 65489.72935358],\n",
       "       [ 47829.57398502],\n",
       "       [ 56909.80227792],\n",
       "       [ 46975.86422072],\n",
       "       [ 47407.6525996 ],\n",
       "       [ 48326.89467843]])"
      ]
     },
     "execution_count": 67,
     "metadata": {},
     "output_type": "execute_result"
    }
   ],
   "source": [
    "y_hat6 = intercept + np.dot(rnd_cost, 0.79658404) + np.dot(mar_cost, 0.02990788)\n",
    "y_hat6"
   ]
  },
  {
   "cell_type": "code",
   "execution_count": 68,
   "id": "6d09b682-123d-4745-ab9d-88ed80176808",
   "metadata": {},
   "outputs": [
    {
     "data": {
      "text/plain": [
       "0.9504503015559758"
      ]
     },
     "execution_count": 68,
     "metadata": {},
     "output_type": "execute_result"
    }
   ],
   "source": [
    "r2score = r2_score(y, y_hat6)\n",
    "r2score"
   ]
  },
  {
   "cell_type": "code",
   "execution_count": 69,
   "id": "5bdf6cc8-4a2a-4cfd-8107-c2ebd25b45dc",
   "metadata": {},
   "outputs": [
    {
     "name": "stdout",
     "output_type": "stream",
     "text": [
      "78887897.00648834 8881.885892449212\n"
     ]
    }
   ],
   "source": [
    "mse = mean_squared_error(y, y_hat6)\n",
    "rmse = np.sqrt(mse)\n",
    "print(mse, rmse)"
   ]
  },
  {
   "cell_type": "code",
   "execution_count": 70,
   "id": "7fcd4403-7fa1-49cc-8209-796accbe2308",
   "metadata": {},
   "outputs": [
    {
     "data": {
      "text/plain": [
       "Text(0, 0.5, 'actual profit')"
      ]
     },
     "execution_count": 70,
     "metadata": {},
     "output_type": "execute_result"
    },
    {
     "data": {
      "image/png": "[encoded data removed]",
      "text/plain": [
       "<Figure size 640x480 with 1 Axes>"
      ]
     },
     "metadata": {},
     "output_type": "display_data"
    }
   ],
   "source": [
    "plt.scatter(y_hat6, y)\n",
    "plt.xlabel('predicted profit')\n",
    "plt.ylabel('actual profit')"
   ]
  },
  {
   "cell_type": "code",
   "execution_count": 71,
   "id": "46edeb80-af44-482e-bddc-6a175f1af7c8",
   "metadata": {},
   "outputs": [],
   "source": [
    " model_scores = np.array(([1,0.9465353160804393,9226.100548285232], [2,0.9478129385009172,9115.19792753638], [3, 0.9507459940683235,8855.344489015242],[4, 0.04028714077757223,39089.07005473708],[5,-1.4150691465967529, 62008.24879046944],[6,0.9504503015559758,8881.885892449212]))"
   ]
  },
  {
   "cell_type": "code",
   "execution_count": 72,
   "id": "2ef2265a-58a0-48e2-8950-ab1200d70b7e",
   "metadata": {},
   "outputs": [
    {
     "data": {
      "text/plain": [
       "array([[ 1.00000000e+00,  9.46535316e-01,  9.22610055e+03],\n",
       "       [ 2.00000000e+00,  9.47812939e-01,  9.11519793e+03],\n",
       "       [ 3.00000000e+00,  9.50745994e-01,  8.85534449e+03],\n",
       "       [ 4.00000000e+00,  4.02871408e-02,  3.90890701e+04],\n",
       "       [ 5.00000000e+00, -1.41506915e+00,  6.20082488e+04],\n",
       "       [ 6.00000000e+00,  9.50450302e-01,  8.88188589e+03]])"
      ]
     },
     "execution_count": 72,
     "metadata": {},
     "output_type": "execute_result"
    }
   ],
   "source": [
    "model_scores"
   ]
  },
  {
   "cell_type": "code",
   "execution_count": 73,
   "id": "37498a59-a864-4ca6-9c54-73120055444c",
   "metadata": {},
   "outputs": [],
   "source": [
    "model_evaluation_score = pd.DataFrame(model_scores, columns = [['Model no','R2_score', 'RMSE score']])"
   ]
  },
  {
   "cell_type": "code",
   "execution_count": 74,
   "id": "a5f23627-1150-4ac1-9878-67f8f9c5a5c0",
   "metadata": {},
   "outputs": [
    {
     "data": {
      "text/html": [
       "<div>\n",
       "<style scoped>\n",
       "    .dataframe tbody tr th:only-of-type {\n",
       "        vertical-align: middle;\n",
       "    }\n",
       "\n",
       "    .dataframe tbody tr th {\n",
       "        vertical-align: top;\n",
       "    }\n",
       "\n",
       "    .dataframe thead tr th {\n",
       "        text-align: left;\n",
       "    }\n",
       "</style>\n",
       "<table border=\"1\" class=\"dataframe\">\n",
       "  <thead>\n",
       "    <tr>\n",
       "      <th></th>\n",
       "      <th>Model no</th>\n",
       "      <th>R2_score</th>\n",
       "      <th>RMSE score</th>\n",
       "    </tr>\n",
       "  </thead>\n",
       "  <tbody>\n",
       "    <tr>\n",
       "      <th>0</th>\n",
       "      <td>1.0</td>\n",
       "      <td>0.946535</td>\n",
       "      <td>9226.100548</td>\n",
       "    </tr>\n",
       "    <tr>\n",
       "      <th>1</th>\n",
       "      <td>2.0</td>\n",
       "      <td>0.947813</td>\n",
       "      <td>9115.197928</td>\n",
       "    </tr>\n",
       "    <tr>\n",
       "      <th>2</th>\n",
       "      <td>3.0</td>\n",
       "      <td>0.950746</td>\n",
       "      <td>8855.344489</td>\n",
       "    </tr>\n",
       "    <tr>\n",
       "      <th>3</th>\n",
       "      <td>4.0</td>\n",
       "      <td>0.040287</td>\n",
       "      <td>39089.070055</td>\n",
       "    </tr>\n",
       "    <tr>\n",
       "      <th>4</th>\n",
       "      <td>5.0</td>\n",
       "      <td>-1.415069</td>\n",
       "      <td>62008.248790</td>\n",
       "    </tr>\n",
       "    <tr>\n",
       "      <th>5</th>\n",
       "      <td>6.0</td>\n",
       "      <td>0.950450</td>\n",
       "      <td>8881.885892</td>\n",
       "    </tr>\n",
       "  </tbody>\n",
       "</table>\n",
       "</div>"
      ],
      "text/plain": [
       "  Model no  R2_score    RMSE score\n",
       "0      1.0  0.946535   9226.100548\n",
       "1      2.0  0.947813   9115.197928\n",
       "2      3.0  0.950746   8855.344489\n",
       "3      4.0  0.040287  39089.070055\n",
       "4      5.0 -1.415069  62008.248790\n",
       "5      6.0  0.950450   8881.885892"
      ]
     },
     "execution_count": 74,
     "metadata": {},
     "output_type": "execute_result"
    }
   ],
   "source": [
    "model_evaluation_score"
   ]
  },
  {
   "cell_type": "markdown",
   "id": "59599941-9d96-42ec-a0ad-1311c498b825",
   "metadata": {},
   "source": [
    "## best model "
   ]
  },
  {
   "cell_type": "code",
   "execution_count": 75,
   "id": "e8e21cbe-f344-4c21-93f9-6a2fedd047d4",
   "metadata": {},
   "outputs": [
    {
     "data": {
      "text/html": [
       "<div>\n",
       "<style scoped>\n",
       "    .dataframe tbody tr th:only-of-type {\n",
       "        vertical-align: middle;\n",
       "    }\n",
       "\n",
       "    .dataframe tbody tr th {\n",
       "        vertical-align: top;\n",
       "    }\n",
       "\n",
       "    .dataframe thead tr th {\n",
       "        text-align: left;\n",
       "    }\n",
       "</style>\n",
       "<table border=\"1\" class=\"dataframe\">\n",
       "  <thead>\n",
       "    <tr>\n",
       "      <th></th>\n",
       "      <th>Model no</th>\n",
       "      <th>R2_score</th>\n",
       "      <th>RMSE score</th>\n",
       "    </tr>\n",
       "  </thead>\n",
       "  <tbody>\n",
       "    <tr>\n",
       "      <th>2</th>\n",
       "      <td>3.0</td>\n",
       "      <td>0.950746</td>\n",
       "      <td>8855.344489</td>\n",
       "    </tr>\n",
       "  </tbody>\n",
       "</table>\n",
       "</div>"
      ],
      "text/plain": [
       "  Model no  R2_score   RMSE score\n",
       "2      3.0  0.950746  8855.344489"
      ]
     },
     "execution_count": 75,
     "metadata": {},
     "output_type": "execute_result"
    }
   ],
   "source": [
    "model_evaluation_score.loc[model_evaluation_score['R2_score'].idxmax()]"
   ]
  },
  {
   "cell_type": "markdown",
   "id": "c2d0004a-d11a-4f42-83b2-9944dad31b28",
   "metadata": {},
   "source": [
    "Exploratory Data Analysis"
   ]
  },
  {
   "cell_type": "code",
   "execution_count": 76,
   "id": "143fd580-7dab-47f3-9d42-45136aa47212",
   "metadata": {},
   "outputs": [
    {
     "data": {
      "text/html": [
       "<div>\n",
       "<style scoped>\n",
       "    .dataframe tbody tr th:only-of-type {\n",
       "        vertical-align: middle;\n",
       "    }\n",
       "\n",
       "    .dataframe tbody tr th {\n",
       "        vertical-align: top;\n",
       "    }\n",
       "\n",
       "    .dataframe thead th {\n",
       "        text-align: right;\n",
       "    }\n",
       "</style>\n",
       "<table border=\"1\" class=\"dataframe\">\n",
       "  <thead>\n",
       "    <tr style=\"text-align: right;\">\n",
       "      <th></th>\n",
       "      <th>R&amp;D Spend</th>\n",
       "      <th>Administration</th>\n",
       "      <th>Marketing Spend</th>\n",
       "      <th>Profit</th>\n",
       "    </tr>\n",
       "  </thead>\n",
       "  <tbody>\n",
       "    <tr>\n",
       "      <th>0</th>\n",
       "      <td>165349.20</td>\n",
       "      <td>136897.80</td>\n",
       "      <td>471784.10</td>\n",
       "      <td>192261.83</td>\n",
       "    </tr>\n",
       "    <tr>\n",
       "      <th>1</th>\n",
       "      <td>162597.70</td>\n",
       "      <td>151377.59</td>\n",
       "      <td>443898.53</td>\n",
       "      <td>191792.06</td>\n",
       "    </tr>\n",
       "    <tr>\n",
       "      <th>2</th>\n",
       "      <td>153441.51</td>\n",
       "      <td>101145.55</td>\n",
       "      <td>407934.54</td>\n",
       "      <td>191050.39</td>\n",
       "    </tr>\n",
       "    <tr>\n",
       "      <th>3</th>\n",
       "      <td>144372.41</td>\n",
       "      <td>118671.85</td>\n",
       "      <td>383199.62</td>\n",
       "      <td>182901.99</td>\n",
       "    </tr>\n",
       "    <tr>\n",
       "      <th>4</th>\n",
       "      <td>142107.34</td>\n",
       "      <td>91391.77</td>\n",
       "      <td>366168.42</td>\n",
       "      <td>166187.94</td>\n",
       "    </tr>\n",
       "  </tbody>\n",
       "</table>\n",
       "</div>"
      ],
      "text/plain": [
       "   R&D Spend  Administration  Marketing Spend     Profit\n",
       "0  165349.20       136897.80        471784.10  192261.83\n",
       "1  162597.70       151377.59        443898.53  191792.06\n",
       "2  153441.51       101145.55        407934.54  191050.39\n",
       "3  144372.41       118671.85        383199.62  182901.99\n",
       "4  142107.34        91391.77        366168.42  166187.94"
      ]
     },
     "execution_count": 76,
     "metadata": {},
     "output_type": "execute_result"
    }
   ],
   "source": [
    "data.head()"
   ]
  },
  {
   "cell_type": "code",
   "execution_count": 77,
   "id": "5cda305e-6470-429f-90c4-54dd59bdaeb5",
   "metadata": {},
   "outputs": [
    {
     "data": {
      "text/html": [
       "<div>\n",
       "<style scoped>\n",
       "    .dataframe tbody tr th:only-of-type {\n",
       "        vertical-align: middle;\n",
       "    }\n",
       "\n",
       "    .dataframe tbody tr th {\n",
       "        vertical-align: top;\n",
       "    }\n",
       "\n",
       "    .dataframe thead th {\n",
       "        text-align: right;\n",
       "    }\n",
       "</style>\n",
       "<table border=\"1\" class=\"dataframe\">\n",
       "  <thead>\n",
       "    <tr style=\"text-align: right;\">\n",
       "      <th></th>\n",
       "      <th>R&amp;D Spend</th>\n",
       "      <th>Administration</th>\n",
       "      <th>Marketing Spend</th>\n",
       "      <th>Profit</th>\n",
       "    </tr>\n",
       "  </thead>\n",
       "  <tbody>\n",
       "    <tr>\n",
       "      <th>45</th>\n",
       "      <td>1000.23</td>\n",
       "      <td>124153.04</td>\n",
       "      <td>1903.93</td>\n",
       "      <td>64926.08</td>\n",
       "    </tr>\n",
       "    <tr>\n",
       "      <th>46</th>\n",
       "      <td>1315.46</td>\n",
       "      <td>115816.21</td>\n",
       "      <td>297114.46</td>\n",
       "      <td>49490.75</td>\n",
       "    </tr>\n",
       "    <tr>\n",
       "      <th>47</th>\n",
       "      <td>0.00</td>\n",
       "      <td>135426.92</td>\n",
       "      <td>0.00</td>\n",
       "      <td>42559.73</td>\n",
       "    </tr>\n",
       "    <tr>\n",
       "      <th>48</th>\n",
       "      <td>542.05</td>\n",
       "      <td>51743.15</td>\n",
       "      <td>0.00</td>\n",
       "      <td>35673.41</td>\n",
       "    </tr>\n",
       "    <tr>\n",
       "      <th>49</th>\n",
       "      <td>0.00</td>\n",
       "      <td>116983.80</td>\n",
       "      <td>45173.06</td>\n",
       "      <td>14681.40</td>\n",
       "    </tr>\n",
       "  </tbody>\n",
       "</table>\n",
       "</div>"
      ],
      "text/plain": [
       "    R&D Spend  Administration  Marketing Spend    Profit\n",
       "45    1000.23       124153.04          1903.93  64926.08\n",
       "46    1315.46       115816.21        297114.46  49490.75\n",
       "47       0.00       135426.92             0.00  42559.73\n",
       "48     542.05        51743.15             0.00  35673.41\n",
       "49       0.00       116983.80         45173.06  14681.40"
      ]
     },
     "execution_count": 77,
     "metadata": {},
     "output_type": "execute_result"
    }
   ],
   "source": [
    "data.tail()"
   ]
  },
  {
   "cell_type": "code",
   "execution_count": 78,
   "id": "f540ecbb-50e7-4474-98d5-5f0e46ce9bae",
   "metadata": {},
   "outputs": [
    {
     "data": {
      "text/plain": [
       "0     False\n",
       "1     False\n",
       "2     False\n",
       "3     False\n",
       "4     False\n",
       "5     False\n",
       "6     False\n",
       "7     False\n",
       "8     False\n",
       "9     False\n",
       "10    False\n",
       "11    False\n",
       "12    False\n",
       "13    False\n",
       "14    False\n",
       "15    False\n",
       "16    False\n",
       "17    False\n",
       "18    False\n",
       "19    False\n",
       "20    False\n",
       "21    False\n",
       "22    False\n",
       "23    False\n",
       "24    False\n",
       "25    False\n",
       "26    False\n",
       "27    False\n",
       "28    False\n",
       "29    False\n",
       "30    False\n",
       "31    False\n",
       "32    False\n",
       "33    False\n",
       "34    False\n",
       "35    False\n",
       "36    False\n",
       "37    False\n",
       "38    False\n",
       "39    False\n",
       "40    False\n",
       "41    False\n",
       "42    False\n",
       "43    False\n",
       "44    False\n",
       "45    False\n",
       "46    False\n",
       "47    False\n",
       "48    False\n",
       "49    False\n",
       "dtype: bool"
      ]
     },
     "execution_count": 78,
     "metadata": {},
     "output_type": "execute_result"
    }
   ],
   "source": [
    "data.duplicated()"
   ]
  },
  {
   "cell_type": "code",
   "execution_count": 79,
   "id": "748af6c9-9f8d-4b25-bacd-04c64111e447",
   "metadata": {},
   "outputs": [
    {
     "data": {
      "text/plain": [
       "R&D Spend          0\n",
       "Administration     0\n",
       "Marketing Spend    0\n",
       "Profit             0\n",
       "dtype: int64"
      ]
     },
     "execution_count": 79,
     "metadata": {},
     "output_type": "execute_result"
    }
   ],
   "source": [
    "data.isnull().sum()"
   ]
  },
  {
   "cell_type": "code",
   "execution_count": 80,
   "id": "a442fe7d-55e7-4ee1-8bda-79cd7e28228f",
   "metadata": {},
   "outputs": [
    {
     "name": "stdout",
     "output_type": "stream",
     "text": [
      "<class 'pandas.core.frame.DataFrame'>\n",
      "RangeIndex: 50 entries, 0 to 49\n",
      "Data columns (total 4 columns):\n",
      " #   Column           Non-Null Count  Dtype  \n",
      "---  ------           --------------  -----  \n",
      " 0   R&D Spend        50 non-null     float64\n",
      " 1   Administration   50 non-null     float64\n",
      " 2   Marketing Spend  50 non-null     float64\n",
      " 3   Profit           50 non-null     float64\n",
      "dtypes: float64(4)\n",
      "memory usage: 1.7 KB\n"
     ]
    }
   ],
   "source": [
    "data.info()"
   ]
  },
  {
   "cell_type": "code",
   "execution_count": 81,
   "id": "0f19972d-5860-4d3b-9c41-c02edbe5a82b",
   "metadata": {},
   "outputs": [
    {
     "data": {
      "text/html": [
       "<div>\n",
       "<style scoped>\n",
       "    .dataframe tbody tr th:only-of-type {\n",
       "        vertical-align: middle;\n",
       "    }\n",
       "\n",
       "    .dataframe tbody tr th {\n",
       "        vertical-align: top;\n",
       "    }\n",
       "\n",
       "    .dataframe thead th {\n",
       "        text-align: right;\n",
       "    }\n",
       "</style>\n",
       "<table border=\"1\" class=\"dataframe\">\n",
       "  <thead>\n",
       "    <tr style=\"text-align: right;\">\n",
       "      <th></th>\n",
       "      <th>R&amp;D Spend</th>\n",
       "      <th>Administration</th>\n",
       "      <th>Marketing Spend</th>\n",
       "      <th>Profit</th>\n",
       "    </tr>\n",
       "  </thead>\n",
       "  <tbody>\n",
       "    <tr>\n",
       "      <th>count</th>\n",
       "      <td>50.000000</td>\n",
       "      <td>50.000000</td>\n",
       "      <td>50.000000</td>\n",
       "      <td>50.000000</td>\n",
       "    </tr>\n",
       "    <tr>\n",
       "      <th>mean</th>\n",
       "      <td>73721.615600</td>\n",
       "      <td>121344.639600</td>\n",
       "      <td>211025.097800</td>\n",
       "      <td>112012.639200</td>\n",
       "    </tr>\n",
       "    <tr>\n",
       "      <th>std</th>\n",
       "      <td>45902.256482</td>\n",
       "      <td>28017.802755</td>\n",
       "      <td>122290.310726</td>\n",
       "      <td>40306.180338</td>\n",
       "    </tr>\n",
       "    <tr>\n",
       "      <th>min</th>\n",
       "      <td>0.000000</td>\n",
       "      <td>51283.140000</td>\n",
       "      <td>0.000000</td>\n",
       "      <td>14681.400000</td>\n",
       "    </tr>\n",
       "    <tr>\n",
       "      <th>25%</th>\n",
       "      <td>39936.370000</td>\n",
       "      <td>103730.875000</td>\n",
       "      <td>129300.132500</td>\n",
       "      <td>90138.902500</td>\n",
       "    </tr>\n",
       "    <tr>\n",
       "      <th>50%</th>\n",
       "      <td>73051.080000</td>\n",
       "      <td>122699.795000</td>\n",
       "      <td>212716.240000</td>\n",
       "      <td>107978.190000</td>\n",
       "    </tr>\n",
       "    <tr>\n",
       "      <th>75%</th>\n",
       "      <td>101602.800000</td>\n",
       "      <td>144842.180000</td>\n",
       "      <td>299469.085000</td>\n",
       "      <td>139765.977500</td>\n",
       "    </tr>\n",
       "    <tr>\n",
       "      <th>max</th>\n",
       "      <td>165349.200000</td>\n",
       "      <td>182645.560000</td>\n",
       "      <td>471784.100000</td>\n",
       "      <td>192261.830000</td>\n",
       "    </tr>\n",
       "  </tbody>\n",
       "</table>\n",
       "</div>"
      ],
      "text/plain": [
       "           R&D Spend  Administration  Marketing Spend         Profit\n",
       "count      50.000000       50.000000        50.000000      50.000000\n",
       "mean    73721.615600   121344.639600    211025.097800  112012.639200\n",
       "std     45902.256482    28017.802755    122290.310726   40306.180338\n",
       "min         0.000000    51283.140000         0.000000   14681.400000\n",
       "25%     39936.370000   103730.875000    129300.132500   90138.902500\n",
       "50%     73051.080000   122699.795000    212716.240000  107978.190000\n",
       "75%    101602.800000   144842.180000    299469.085000  139765.977500\n",
       "max    165349.200000   182645.560000    471784.100000  192261.830000"
      ]
     },
     "execution_count": 81,
     "metadata": {},
     "output_type": "execute_result"
    }
   ],
   "source": [
    "data.describe()"
   ]
  },
  {
   "cell_type": "code",
   "execution_count": 82,
   "id": "b832ed7a-cd71-47a0-9f9a-e6f400d3701d",
   "metadata": {},
   "outputs": [
    {
     "data": {
      "text/html": [
       "<div>\n",
       "<style scoped>\n",
       "    .dataframe tbody tr th:only-of-type {\n",
       "        vertical-align: middle;\n",
       "    }\n",
       "\n",
       "    .dataframe tbody tr th {\n",
       "        vertical-align: top;\n",
       "    }\n",
       "\n",
       "    .dataframe thead th {\n",
       "        text-align: right;\n",
       "    }\n",
       "</style>\n",
       "<table border=\"1\" class=\"dataframe\">\n",
       "  <thead>\n",
       "    <tr style=\"text-align: right;\">\n",
       "      <th></th>\n",
       "      <th>R&amp;D Spend</th>\n",
       "      <th>Administration</th>\n",
       "      <th>Marketing Spend</th>\n",
       "      <th>Profit</th>\n",
       "    </tr>\n",
       "  </thead>\n",
       "  <tbody>\n",
       "    <tr>\n",
       "      <th>R&amp;D Spend</th>\n",
       "      <td>1.000000</td>\n",
       "      <td>0.241955</td>\n",
       "      <td>0.724248</td>\n",
       "      <td>0.972900</td>\n",
       "    </tr>\n",
       "    <tr>\n",
       "      <th>Administration</th>\n",
       "      <td>0.241955</td>\n",
       "      <td>1.000000</td>\n",
       "      <td>-0.032154</td>\n",
       "      <td>0.200717</td>\n",
       "    </tr>\n",
       "    <tr>\n",
       "      <th>Marketing Spend</th>\n",
       "      <td>0.724248</td>\n",
       "      <td>-0.032154</td>\n",
       "      <td>1.000000</td>\n",
       "      <td>0.747766</td>\n",
       "    </tr>\n",
       "    <tr>\n",
       "      <th>Profit</th>\n",
       "      <td>0.972900</td>\n",
       "      <td>0.200717</td>\n",
       "      <td>0.747766</td>\n",
       "      <td>1.000000</td>\n",
       "    </tr>\n",
       "  </tbody>\n",
       "</table>\n",
       "</div>"
      ],
      "text/plain": [
       "                 R&D Spend  Administration  Marketing Spend    Profit\n",
       "R&D Spend         1.000000        0.241955         0.724248  0.972900\n",
       "Administration    0.241955        1.000000        -0.032154  0.200717\n",
       "Marketing Spend   0.724248       -0.032154         1.000000  0.747766\n",
       "Profit            0.972900        0.200717         0.747766  1.000000"
      ]
     },
     "execution_count": 82,
     "metadata": {},
     "output_type": "execute_result"
    }
   ],
   "source": [
    "corr=data.corr()\n",
    "corr"
   ]
  },
  {
   "cell_type": "code",
   "execution_count": 83,
   "id": "eacd1faa-4b81-4f88-8478-72a57011b98b",
   "metadata": {},
   "outputs": [
    {
     "data": {
      "text/plain": [
       "<Axes: >"
      ]
     },
     "execution_count": 83,
     "metadata": {},
     "output_type": "execute_result"
    },
    {
     "data": {
      "image/png": "[encoded data removed]",
      "text/plain": [
       "<Figure size 640x480 with 2 Axes>"
      ]
     },
     "metadata": {},
     "output_type": "display_data"
    }
   ],
   "source": [
    "sns.heatmap(corr,annot=True,cmap='Reds')"
   ]
  },
  {
   "cell_type": "markdown",
   "id": "1c4515b3-183c-41ee-8c2f-e0f2e742a322",
   "metadata": {},
   "source": [
    "check for multicollinearity"
   ]
  },
  {
   "cell_type": "code",
   "execution_count": 84,
   "id": "d1c1f2b0-25fd-43e2-89ce-f567433ed236",
   "metadata": {},
   "outputs": [
    {
     "name": "stdout",
     "output_type": "stream",
     "text": [
      "2\n",
      "R&D Spend          7.156216\n",
      "Marketing Spend    7.156216\n",
      "dtype: float64\n"
     ]
    }
   ],
   "source": [
    "p = x.shape[1]\n",
    "print(p)\n",
    "vif = [variance_inflation_factor(x.values,i) for i in range(p)]\n",
    "vif = pd.Series(vif, index = x.columns)\n",
    "print(vif)"
   ]
  },
  {
   "cell_type": "code",
   "execution_count": 85,
   "id": "67666052-0b26-4c57-bb35-4e39bd4d295d",
   "metadata": {},
   "outputs": [
    {
     "name": "stderr",
     "output_type": "stream",
     "text": [
      "C:\\Users\\Avnish Roy\\AppData\\Local\\Temp\\ipykernel_11600\\597669918.py:1: UserWarning: \n",
      "\n",
      "`distplot` is a deprecated function and will be removed in seaborn v0.14.0.\n",
      "\n",
      "Please adapt your code to use either `displot` (a figure-level function with\n",
      "similar flexibility) or `histplot` (an axes-level function for histograms).\n",
      "\n",
      "For a guide to updating your code to use the new functions, please see\n",
      "https://gist.github.com/mwaskom/de44147ed2974457ad6372750bbe5751\n",
      "\n",
      "  sns.distplot(data['Profit'],bins = 6, kde= True)\n"
     ]
    },
    {
     "data": {
      "text/plain": [
       "<Axes: xlabel='Profit', ylabel='Density'>"
      ]
     },
     "execution_count": 85,
     "metadata": {},
     "output_type": "execute_result"
    },
    {
     "data": {
      "image/png": "[encoded data removed]",
      "text/plain": [
       "<Figure size 640x480 with 1 Axes>"
      ]
     },
     "metadata": {},
     "output_type": "display_data"
    }
   ],
   "source": [
    "sns.distplot(data['Profit'],bins = 6, kde= True)"
   ]
  },
  {
   "cell_type": "code",
   "execution_count": 86,
   "id": "66646e13-d45e-442b-940f-f2ea793d5b98",
   "metadata": {},
   "outputs": [
    {
     "data": {
      "text/plain": [
       "Text(0.5, 0, 'Continuous variabel')"
      ]
     },
     "execution_count": 86,
     "metadata": {},
     "output_type": "execute_result"
    },
    {
     "data": {
      "image/png": "[encoded data removed]",
      "text/plain": [
       "<Figure size 600x600 with 1 Axes>"
      ]
     },
     "metadata": {},
     "output_type": "display_data"
    }
   ],
   "source": [
    "plt.rcParams['figure.figsize']=[6,6]\n",
    "sns.boxplot(data=data['Profit'],orient='v',palette='Set2',width=.9)\n",
    "plt.title('Outliers Distribution')\n",
    "plt.ylabel('Profit range')\n",
    "plt.xlabel('Continuous variabel')"
   ]
  },
  {
   "cell_type": "code",
   "execution_count": 87,
   "id": "a464951c-606f-421b-90bc-f04ae334dcbd",
   "metadata": {},
   "outputs": [
    {
     "name": "stderr",
     "output_type": "stream",
     "text": [
      "C:\\Users\\Avnish Roy\\AppData\\Local\\Programs\\Python\\Python311\\Lib\\site-packages\\seaborn\\axisgrid.py:118: UserWarning: The figure layout has changed to tight\n",
      "  self._figure.tight_layout(*args, **kwargs)\n"
     ]
    },
    {
     "data": {
      "image/png": "[encoded data removed]",
      "text/plain": [
       "<Figure size 1000x1000 with 20 Axes>"
      ]
     },
     "metadata": {},
     "output_type": "display_data"
    }
   ],
   "source": [
    "sns.pairplot(data)\n",
    "plt.show()"
   ]
  },
  {
   "cell_type": "markdown",
   "id": "c484f03a-d490-4eb1-beec-27160946d6b9",
   "metadata": {},
   "source": [
    "splitting data into training and testing set "
   ]
  },
  {
   "cell_type": "code",
   "execution_count": 88,
   "id": "be65e85f-1827-4b8b-89c5-2ec3730e41f6",
   "metadata": {},
   "outputs": [],
   "source": [
    "x=data.drop(['Profit'],axis=1)\n",
    "y=data['Profit']"
   ]
  },
  {
   "cell_type": "code",
   "execution_count": 89,
   "id": "3de56c65-cf20-41f0-841f-056a28640cb7",
   "metadata": {},
   "outputs": [],
   "source": [
    "x_train,x_test,y_train,y_test=train_test_split(x,y,test_size=.2,random_state=0)"
   ]
  },
  {
   "cell_type": "code",
   "execution_count": 90,
   "id": "77865df6-b9c2-4f53-8066-b1f3f8613fd8",
   "metadata": {},
   "outputs": [],
   "source": [
    "x_train=x_train.values"
   ]
  },
  {
   "cell_type": "code",
   "execution_count": 91,
   "id": "76e90c5e-137e-42e1-83d4-789912accfec",
   "metadata": {},
   "outputs": [
    {
     "data": {
      "text/plain": [
       "array([[ 55493.95, 103057.49, 214634.81],\n",
       "       [ 46014.02,  85047.44, 205517.64],\n",
       "       [ 75328.87, 144135.98, 134050.07],\n",
       "       [ 46426.07, 157693.92, 210797.67],\n",
       "       [ 91749.16, 114175.79, 294919.57],\n",
       "       [130298.13, 145530.06, 323876.68],\n",
       "       [119943.24, 156547.42, 256512.92],\n",
       "       [  1000.23, 124153.04,   1903.93],\n",
       "       [   542.05,  51743.15,      0.  ],\n",
       "       [ 65605.48, 153032.06, 107138.38],\n",
       "       [114523.61, 122616.84, 261776.23],\n",
       "       [ 61994.48, 115641.28,  91131.24],\n",
       "       [ 63408.86, 129219.61,  46085.25],\n",
       "       [ 78013.11, 121597.55, 264346.06],\n",
       "       [ 23640.93,  96189.63, 148001.11],\n",
       "       [ 76253.86, 113867.3 , 298664.47],\n",
       "       [ 15505.73, 127382.3 ,  35534.17],\n",
       "       [120542.52, 148718.95, 311613.29],\n",
       "       [ 91992.39, 135495.07, 252664.93],\n",
       "       [ 64664.71, 139553.16, 137962.62],\n",
       "       [131876.9 ,  99814.71, 362861.36],\n",
       "       [ 94657.16, 145077.58, 282574.31],\n",
       "       [ 28754.33, 118546.05, 172795.67],\n",
       "       [     0.  , 116983.8 ,  45173.06],\n",
       "       [162597.7 , 151377.59, 443898.53],\n",
       "       [ 93863.75, 127320.38, 249839.44],\n",
       "       [ 44069.95,  51283.14, 197029.42],\n",
       "       [ 77044.01,  99281.34, 140574.81],\n",
       "       [134615.46, 147198.87, 127716.82],\n",
       "       [ 67532.53, 105751.03, 304768.73],\n",
       "       [ 28663.76, 127056.21, 201126.82],\n",
       "       [ 78389.47, 153773.43, 299737.29],\n",
       "       [ 86419.7 , 153514.11,      0.  ],\n",
       "       [123334.88, 108679.17, 304981.62],\n",
       "       [ 38558.51,  82982.09, 174999.3 ],\n",
       "       [  1315.46, 115816.21, 297114.46],\n",
       "       [144372.41, 118671.85, 383199.62],\n",
       "       [165349.2 , 136897.8 , 471784.1 ],\n",
       "       [     0.  , 135426.92,      0.  ],\n",
       "       [ 22177.74, 154806.14,  28334.72]])"
      ]
     },
     "execution_count": 91,
     "metadata": {},
     "output_type": "execute_result"
    }
   ],
   "source": [
    "x_train"
   ]
  },
  {
   "cell_type": "code",
   "execution_count": 92,
   "id": "9268fbdc-bfd0-4c73-83a4-7d8c62264c92",
   "metadata": {},
   "outputs": [],
   "source": [
    "x_test = x_test.values"
   ]
  },
  {
   "cell_type": "code",
   "execution_count": 93,
   "id": "50871676-c0b3-4e1e-8b20-41a25c1c865d",
   "metadata": {},
   "outputs": [],
   "source": [
    "y_train = y_train.values"
   ]
  },
  {
   "cell_type": "code",
   "execution_count": 94,
   "id": "800cc198-50f5-4169-8f46-f204c7d1a1cb",
   "metadata": {},
   "outputs": [],
   "source": [
    "y_test = y_test.values"
   ]
  },
  {
   "cell_type": "code",
   "execution_count": 95,
   "id": "88de4d34-6dca-4708-a666-ce3732e256ed",
   "metadata": {},
   "outputs": [
    {
     "data": {
      "text/html": [
       "<style>#sk-container-id-1 {color: black;}#sk-container-id-1 pre{padding: 0;}#sk-container-id-1 div.sk-toggleable {background-color: white;}#sk-container-id-1 label.sk-toggleable__label {cursor: pointer;display: block;width: 100%;margin-bottom: 0;padding: 0.3em;box-sizing: border-box;text-align: center;}#sk-container-id-1 label.sk-toggleable__label-arrow:before {content: \"▸\";float: left;margin-right: 0.25em;color: #696969;}#sk-container-id-1 label.sk-toggleable__label-arrow:hover:before {color: black;}#sk-container-id-1 div.sk-estimator:hover label.sk-toggleable__label-arrow:before {color: black;}#sk-container-id-1 div.sk-toggleable__content {max-height: 0;max-width: 0;overflow: hidden;text-align: left;background-color: #f0f8ff;}#sk-container-id-1 div.sk-toggleable__content pre {margin: 0.2em;color: black;border-radius: 0.25em;background-color: #f0f8ff;}#sk-container-id-1 input.sk-toggleable__control:checked~div.sk-toggleable__content {max-height: 200px;max-width: 100%;overflow: auto;}#sk-container-id-1 input.sk-toggleable__control:checked~label.sk-toggleable__label-arrow:before {content: \"▾\";}#sk-container-id-1 div.sk-estimator input.sk-toggleable__control:checked~label.sk-toggleable__label {background-color: #d4ebff;}#sk-container-id-1 div.sk-label input.sk-toggleable__control:checked~label.sk-toggleable__label {background-color: #d4ebff;}#sk-container-id-1 input.sk-hidden--visually {border: 0;clip: rect(1px 1px 1px 1px);clip: rect(1px, 1px, 1px, 1px);height: 1px;margin: -1px;overflow: hidden;padding: 0;position: absolute;width: 1px;}#sk-container-id-1 div.sk-estimator {font-family: monospace;background-color: #f0f8ff;border: 1px dotted black;border-radius: 0.25em;box-sizing: border-box;margin-bottom: 0.5em;}#sk-container-id-1 div.sk-estimator:hover {background-color: #d4ebff;}#sk-container-id-1 div.sk-parallel-item::after {content: \"\";width: 100%;border-bottom: 1px solid gray;flex-grow: 1;}#sk-container-id-1 div.sk-label:hover label.sk-toggleable__label {background-color: #d4ebff;}#sk-container-id-1 div.sk-serial::before {content: \"\";position: absolute;border-left: 1px solid gray;box-sizing: border-box;top: 0;bottom: 0;left: 50%;z-index: 0;}#sk-container-id-1 div.sk-serial {display: flex;flex-direction: column;align-items: center;background-color: white;padding-right: 0.2em;padding-left: 0.2em;position: relative;}#sk-container-id-1 div.sk-item {position: relative;z-index: 1;}#sk-container-id-1 div.sk-parallel {display: flex;align-items: stretch;justify-content: center;background-color: white;position: relative;}#sk-container-id-1 div.sk-item::before, #sk-container-id-1 div.sk-parallel-item::before {content: \"\";position: absolute;border-left: 1px solid gray;box-sizing: border-box;top: 0;bottom: 0;left: 50%;z-index: -1;}#sk-container-id-1 div.sk-parallel-item {display: flex;flex-direction: column;z-index: 1;position: relative;background-color: white;}#sk-container-id-1 div.sk-parallel-item:first-child::after {align-self: flex-end;width: 50%;}#sk-container-id-1 div.sk-parallel-item:last-child::after {align-self: flex-start;width: 50%;}#sk-container-id-1 div.sk-parallel-item:only-child::after {width: 0;}#sk-container-id-1 div.sk-dashed-wrapped {border: 1px dashed gray;margin: 0 0.4em 0.5em 0.4em;box-sizing: border-box;padding-bottom: 0.4em;background-color: white;}#sk-container-id-1 div.sk-label label {font-family: monospace;font-weight: bold;display: inline-block;line-height: 1.2em;}#sk-container-id-1 div.sk-label-container {text-align: center;}#sk-container-id-1 div.sk-container {/* jupyter's `normalize.less` sets `[hidden] { display: none; }` but bootstrap.min.css set `[hidden] { display: none !important; }` so we also need the `!important` here to be able to override the default hidden behavior on the sphinx rendered scikit-learn.org. See: https://github.com/scikit-learn/scikit-learn/issues/21755 */display: inline-block !important;position: relative;}#sk-container-id-1 div.sk-text-repr-fallback {display: none;}</style><div id=\"sk-container-id-1\" class=\"sk-top-container\"><div class=\"sk-text-repr-fallback\"><pre>LinearRegression()</pre><b>In a Jupyter environment, please rerun this cell to show the HTML representation or trust the notebook. <br />On GitHub, the HTML representation is unable to render, please try loading this page with nbviewer.org.</b></div><div class=\"sk-container\" hidden><div class=\"sk-item\"><div class=\"sk-estimator sk-toggleable\"><input class=\"sk-toggleable__control sk-hidden--visually\" id=\"sk-estimator-id-1\" type=\"checkbox\" checked><label for=\"sk-estimator-id-1\" class=\"sk-toggleable__label sk-toggleable__label-arrow\">LinearRegression</label><div class=\"sk-toggleable__content\"><pre>LinearRegression()</pre></div></div></div></div></div>"
      ],
      "text/plain": [
       "LinearRegression()"
      ]
     },
     "execution_count": 95,
     "metadata": {},
     "output_type": "execute_result"
    }
   ],
   "source": [
    "model=LinearRegression()\n",
    "model.fit(x_train,y_train)"
   ]
  },
  {
   "cell_type": "code",
   "execution_count": 96,
   "id": "2fe9c9e5-346c-46b7-8648-f0658138fe36",
   "metadata": {},
   "outputs": [
    {
     "data": {
      "text/plain": [
       "array([103901.8969696 , 132763.05993126, 133567.90370044,  72911.78976736,\n",
       "       179627.92567224, 115166.64864795,  67113.5769057 ,  98154.80686776,\n",
       "       114756.11555221, 169064.01408795])"
      ]
     },
     "execution_count": 96,
     "metadata": {},
     "output_type": "execute_result"
    }
   ],
   "source": [
    "y_pred=model.predict(x_test)\n",
    "y_pred"
   ]
  },
  {
   "cell_type": "code",
   "execution_count": 97,
   "id": "d4a65fca-78a7-44a9-9fa8-aaa33c0196c7",
   "metadata": {},
   "outputs": [
    {
     "name": "stdout",
     "output_type": "stream",
     "text": [
      "0.9393955917820569\n",
      "0.9499572530324031\n"
     ]
    }
   ],
   "source": [
    "testdata_model_score=model.score(x_test,y_test)\n",
    "print(testdata_model_score)\n",
    "traindata_model_score=model.score(x_train,y_train)\n",
    "print(traindata_model_score)\n"
   ]
  },
  {
   "cell_type": "code",
   "execution_count": 98,
   "id": "2594f10a-0ea4-4f0f-9938-55f0e66023a6",
   "metadata": {},
   "outputs": [],
   "source": [
    "dataset=pd.DataFrame(data={'Actual_values':y_test.flatten(),'Predicted_values':y_pred.flatten()})"
   ]
  },
  {
   "cell_type": "code",
   "execution_count": 99,
   "id": "3271870e-db32-475f-b9b6-586ccc47c98e",
   "metadata": {},
   "outputs": [
    {
     "data": {
      "text/html": [
       "<div>\n",
       "<style scoped>\n",
       "    .dataframe tbody tr th:only-of-type {\n",
       "        vertical-align: middle;\n",
       "    }\n",
       "\n",
       "    .dataframe tbody tr th {\n",
       "        vertical-align: top;\n",
       "    }\n",
       "\n",
       "    .dataframe thead th {\n",
       "        text-align: right;\n",
       "    }\n",
       "</style>\n",
       "<table border=\"1\" class=\"dataframe\">\n",
       "  <thead>\n",
       "    <tr style=\"text-align: right;\">\n",
       "      <th></th>\n",
       "      <th>Actual_values</th>\n",
       "      <th>Predicted_values</th>\n",
       "    </tr>\n",
       "  </thead>\n",
       "  <tbody>\n",
       "    <tr>\n",
       "      <th>0</th>\n",
       "      <td>103282.38</td>\n",
       "      <td>103901.896970</td>\n",
       "    </tr>\n",
       "    <tr>\n",
       "      <th>1</th>\n",
       "      <td>144259.40</td>\n",
       "      <td>132763.059931</td>\n",
       "    </tr>\n",
       "    <tr>\n",
       "      <th>2</th>\n",
       "      <td>146121.95</td>\n",
       "      <td>133567.903700</td>\n",
       "    </tr>\n",
       "    <tr>\n",
       "      <th>3</th>\n",
       "      <td>77798.83</td>\n",
       "      <td>72911.789767</td>\n",
       "    </tr>\n",
       "    <tr>\n",
       "      <th>4</th>\n",
       "      <td>191050.39</td>\n",
       "      <td>179627.925672</td>\n",
       "    </tr>\n",
       "    <tr>\n",
       "      <th>5</th>\n",
       "      <td>105008.31</td>\n",
       "      <td>115166.648648</td>\n",
       "    </tr>\n",
       "    <tr>\n",
       "      <th>6</th>\n",
       "      <td>81229.06</td>\n",
       "      <td>67113.576906</td>\n",
       "    </tr>\n",
       "    <tr>\n",
       "      <th>7</th>\n",
       "      <td>97483.56</td>\n",
       "      <td>98154.806868</td>\n",
       "    </tr>\n",
       "    <tr>\n",
       "      <th>8</th>\n",
       "      <td>110352.25</td>\n",
       "      <td>114756.115552</td>\n",
       "    </tr>\n",
       "    <tr>\n",
       "      <th>9</th>\n",
       "      <td>166187.94</td>\n",
       "      <td>169064.014088</td>\n",
       "    </tr>\n",
       "  </tbody>\n",
       "</table>\n",
       "</div>"
      ],
      "text/plain": [
       "   Actual_values  Predicted_values\n",
       "0      103282.38     103901.896970\n",
       "1      144259.40     132763.059931\n",
       "2      146121.95     133567.903700\n",
       "3       77798.83      72911.789767\n",
       "4      191050.39     179627.925672\n",
       "5      105008.31     115166.648648\n",
       "6       81229.06      67113.576906\n",
       "7       97483.56      98154.806868\n",
       "8      110352.25     114756.115552\n",
       "9      166187.94     169064.014088"
      ]
     },
     "execution_count": 99,
     "metadata": {},
     "output_type": "execute_result"
    }
   ],
   "source": [
    "dataset"
   ]
  },
  {
   "cell_type": "markdown",
   "id": "5b90127b-9f5f-4ce3-8958-48c4aa983e02",
   "metadata": {},
   "source": [
    "## Model Evaluation"
   ]
  },
  {
   "cell_type": "code",
   "execution_count": 100,
   "id": "557469a6-1990-412a-bb97-9ce8403be6e3",
   "metadata": {},
   "outputs": [
    {
     "name": "stdout",
     "output_type": "stream",
     "text": [
      "0.9359154989043084\n"
     ]
    }
   ],
   "source": [
    "r2score=r2_score(y_pred,y_test)\n",
    "print(r2score)"
   ]
  },
  {
   "cell_type": "code",
   "execution_count": 101,
   "id": "eff7715a-f962-4279-ba21-a7ddcf61d5e6",
   "metadata": {},
   "outputs": [
    {
     "name": "stdout",
     "output_type": "stream",
     "text": [
      "77506468.16885428\n"
     ]
    }
   ],
   "source": [
    "mse=mean_squared_error(y_pred,y_test)\n",
    "print(mse)"
   ]
  },
  {
   "cell_type": "code",
   "execution_count": 102,
   "id": "0a0baf4e-df10-4802-971b-76ca5089f2cd",
   "metadata": {},
   "outputs": [
    {
     "name": "stdout",
     "output_type": "stream",
     "text": [
      "8803.775790469354\n"
     ]
    }
   ],
   "source": [
    "rmse=np.sqrt(mean_squared_error(y_pred,y_test))\n",
    "print(rmse)"
   ]
  },
  {
   "cell_type": "code",
   "execution_count": 103,
   "id": "788ad50c-8e00-4056-b7bb-9acdc816594e",
   "metadata": {},
   "outputs": [
    {
     "name": "stdout",
     "output_type": "stream",
     "text": [
      "7320.4416148481305\n"
     ]
    }
   ],
   "source": [
    "mae=mean_absolute_error(y_pred,y_test)\n",
    "print(mae)"
   ]
  },
  {
   "cell_type": "markdown",
   "id": "a680d1bf-64ba-4a57-acd0-34ad74913b2e",
   "metadata": {},
   "source": [
    "## so, the mean absolute error is 7320.441614848134. Therefore our predicted value can be 7320.441614848134 units more or less than the actual value"
   ]
  }
 ],
 "metadata": {
  "kernelspec": {
   "display_name": "Python 3 (ipykernel)",
   "language": "python",
   "name": "python3"
  },
  "language_info": {
   "codemirror_mode": {
    "name": "ipython",
    "version": 3
   },
   "file_extension": ".py",
   "mimetype": "text/x-python",
   "name": "python",
   "nbconvert_exporter": "python",
   "pygments_lexer": "ipython3",
   "version": "3.11.3"
  }
 },
 "nbformat": 4,
 "nbformat_minor": 5
}
